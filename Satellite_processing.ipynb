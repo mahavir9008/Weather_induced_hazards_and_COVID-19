{
  "nbformat": 4,
  "nbformat_minor": 0,
  "metadata": {
    "colab": {
      "name": "Satellite_processing",
      "provenance": [],
      "collapsed_sections": [],
      "toc_visible": true
    },
    "kernelspec": {
      "name": "python3",
      "display_name": "Python 3"
    }
  },
  "cells": [
    {
      "cell_type": "code",
      "metadata": {
        "id": "WiurlU63Yql3",
        "outputId": "9b9391b9-9848-48ab-d6d9-f9de94329b48",
        "colab": {
          "base_uri": "https://localhost:8080/",
          "height": 35
        }
      },
      "source": [
        "from google.colab import drive\n",
        "drive.mount('/content/drive')"
      ],
      "execution_count": null,
      "outputs": [
        {
          "output_type": "stream",
          "text": [
            "Drive already mounted at /content/drive; to attempt to forcibly remount, call drive.mount(\"/content/drive\", force_remount=True).\n"
          ],
          "name": "stdout"
        }
      ]
    },
    {
      "cell_type": "code",
      "metadata": {
        "id": "dJM7MtpSY5Lf",
        "outputId": "f59a2c84-0494-418d-abdf-d8d0b1a4b08d",
        "colab": {
          "base_uri": "https://localhost:8080/",
          "height": 286
        }
      },
      "source": [
        "!pip install PyDrive"
      ],
      "execution_count": null,
      "outputs": [
        {
          "output_type": "stream",
          "text": [
            "Requirement already satisfied: PyDrive in /usr/local/lib/python3.6/dist-packages (1.3.1)\n",
            "Requirement already satisfied: google-api-python-client>=1.2 in /usr/local/lib/python3.6/dist-packages (from PyDrive) (1.7.12)\n",
            "Requirement already satisfied: PyYAML>=3.0 in /usr/local/lib/python3.6/dist-packages (from PyDrive) (3.13)\n",
            "Requirement already satisfied: oauth2client>=4.0.0 in /usr/local/lib/python3.6/dist-packages (from PyDrive) (4.1.3)\n",
            "Requirement already satisfied: google-auth>=1.4.1 in /usr/local/lib/python3.6/dist-packages (from google-api-python-client>=1.2->PyDrive) (1.17.2)\n",
            "Requirement already satisfied: six<2dev,>=1.6.1 in /usr/local/lib/python3.6/dist-packages (from google-api-python-client>=1.2->PyDrive) (1.15.0)\n",
            "Requirement already satisfied: uritemplate<4dev,>=3.0.0 in /usr/local/lib/python3.6/dist-packages (from google-api-python-client>=1.2->PyDrive) (3.0.1)\n",
            "Requirement already satisfied: google-auth-httplib2>=0.0.3 in /usr/local/lib/python3.6/dist-packages (from google-api-python-client>=1.2->PyDrive) (0.0.4)\n",
            "Requirement already satisfied: httplib2<1dev,>=0.17.0 in /usr/local/lib/python3.6/dist-packages (from google-api-python-client>=1.2->PyDrive) (0.17.4)\n",
            "Requirement already satisfied: rsa>=3.1.4 in /usr/local/lib/python3.6/dist-packages (from oauth2client>=4.0.0->PyDrive) (4.6)\n",
            "Requirement already satisfied: pyasn1-modules>=0.0.5 in /usr/local/lib/python3.6/dist-packages (from oauth2client>=4.0.0->PyDrive) (0.2.8)\n",
            "Requirement already satisfied: pyasn1>=0.1.7 in /usr/local/lib/python3.6/dist-packages (from oauth2client>=4.0.0->PyDrive) (0.4.8)\n",
            "Requirement already satisfied: cachetools<5.0,>=2.0.0 in /usr/local/lib/python3.6/dist-packages (from google-auth>=1.4.1->google-api-python-client>=1.2->PyDrive) (4.1.1)\n",
            "Requirement already satisfied: setuptools>=40.3.0 in /usr/local/lib/python3.6/dist-packages (from google-auth>=1.4.1->google-api-python-client>=1.2->PyDrive) (50.3.0)\n"
          ],
          "name": "stdout"
        }
      ]
    },
    {
      "cell_type": "code",
      "metadata": {
        "id": "3XBYFANlY8VG"
      },
      "source": [
        "from pydrive.auth import GoogleAuth\n",
        "from pydrive.drive import GoogleDrive\n",
        "from google.colab import auth\n",
        "from oauth2client.client import GoogleCredentials\n",
        "\n"
      ],
      "execution_count": null,
      "outputs": []
    },
    {
      "cell_type": "code",
      "metadata": {
        "id": "44UgIbcoZBXl"
      },
      "source": [
        "auth.authenticate_user()\n",
        "gauth = GoogleAuth()\n",
        "gauth.credentials = GoogleCredentials.get_application_default()\n",
        "drive = GoogleDrive(gauth)"
      ],
      "execution_count": null,
      "outputs": []
    },
    {
      "cell_type": "code",
      "metadata": {
        "id": "6lbiRZ2PZGq3",
        "outputId": "d5c3e70d-c0ab-4f1c-84cc-9b5b709ba29b",
        "colab": {
          "base_uri": "https://localhost:8080/",
          "height": 88
        }
      },
      "source": [
        "#https://drive.google.com/file/d/16SS-7_YI_uOkzaZAmUsHraPKWvs_YhVm/view?usp=sharing\n",
        "downloaded = drive.CreateFile({'id':\"16SS-7_YI_uOkzaZAmUsHraPKWvs_YhVm\"})   # replace the id with id of file you want to access\n",
        "fp = downloaded.GetContentFile('sen.nc')\n",
        "\n"
      ],
      "execution_count": null,
      "outputs": [
        {
          "output_type": "stream",
          "text": [
            "Requirement already satisfied: netCDF4 in /usr/local/lib/python3.6/dist-packages (1.5.4)\n",
            "Requirement already satisfied: numpy>=1.9 in /usr/local/lib/python3.6/dist-packages (from netCDF4) (1.18.5)\n",
            "Requirement already satisfied: cftime in /usr/local/lib/python3.6/dist-packages (from netCDF4) (1.2.1)\n",
            "odict_keys([])\n"
          ],
          "name": "stdout"
        }
      ]
    },
    {
      "cell_type": "code",
      "metadata": {
        "id": "5O6VoNkYfbOZ",
        "outputId": "7f520fc3-ded4-45c8-e054-98493723df1f",
        "colab": {
          "base_uri": "https://localhost:8080/",
          "height": 1000
        }
      },
      "source": [
        "!pip install netCDF4\n",
        "from matplotlib import pyplot as plt # import libraries\n",
        "import pandas as pd # import libraries\n",
        "import netCDF4 as nc\n",
        "!pip install h5netcdf\n",
        "import h5netcdf\n",
        "#nc1 = nc.Dataset('sen.nc') #\n",
        "#print(nc1)\n",
        "\n",
        "#for i in nc1.variables:\n",
        " # print(i, nc1.variables[i].units, nc1.variables[i].shape)\n",
        "\n",
        "#prcp = nc1['N02'][:]\n",
        "#print(prcp)\n",
        "\n",
        "import netCDF4\n",
        "import numpy as np\n",
        "import pandas as pd\n",
        "\n",
        "f = netCDF4.Dataset(r'sen.nc')\n",
        "#print(f.variables.keys()) # get all variable names\n",
        "import matplotlib.pyplot as plt\n",
        "from mpl_toolkits.mplot3d import Axes3D\n",
        "\n",
        "lons=f['/PRODUCT/longitude'][:]\n",
        "lats=f['/PRODUCT/latitude'][:]\n",
        "no1=f['/PRODUCT/nitrogendioxide_tropospheric_column'][:]\n",
        "no2=f['/PRODUCT/nitrogendioxide_tropospheric_column_precision'][:]\n",
        "no3=f['/PRODUCT/nitrogendioxide_tropospheric_column_precision_kernel'][:]\n",
        "no4=f['/PRODUCT/SUPPORT_DATA/DETAILED_RESULTS/nitrogendioxide_total_column'][:]\n",
        "time=f['/PRODUCT/time_utc'][:]\n",
        "\n",
        "#print(lons)\n",
        "print(no1.shape)\n",
        "#print(no1)\n",
        "#print(time)\n",
        "first_dimesnion=no1[:, 0, 0]\n",
        "second_dimesnion=no1[0, :, 0]\n",
        "third_dimesnion=no1[0, 0, :]\n",
        "print(third_dimesnion)\n",
        "time1=time[:,0]\n",
        "print(time1)\n",
        "data= pd.DataFrame(third_dimesnion)\n",
        "data.plot()\n",
        "#pd.DataFrame(no1[0],no1[1])\n",
        "#import csv\n",
        "\n",
        "##   writer = csv.writer(ff)\n",
        "  #  writer.writerows(no2)"
      ],
      "execution_count": null,
      "outputs": [
        {
          "output_type": "stream",
          "text": [
            "Requirement already satisfied: netCDF4 in /usr/local/lib/python3.6/dist-packages (1.5.4)\n",
            "Requirement already satisfied: cftime in /usr/local/lib/python3.6/dist-packages (from netCDF4) (1.2.1)\n",
            "Requirement already satisfied: numpy>=1.9 in /usr/local/lib/python3.6/dist-packages (from netCDF4) (1.18.5)\n",
            "Requirement already satisfied: h5netcdf in /usr/local/lib/python3.6/dist-packages (0.8.1)\n",
            "Requirement already satisfied: h5py in /usr/local/lib/python3.6/dist-packages (from h5netcdf) (2.10.0)\n",
            "Requirement already satisfied: six in /usr/local/lib/python3.6/dist-packages (from h5py->h5netcdf) (1.15.0)\n",
            "Requirement already satisfied: numpy>=1.7 in /usr/local/lib/python3.6/dist-packages (from h5py->h5netcdf) (1.18.5)\n",
            "(1, 372, 450)\n",
            "[-- 1.0637714694894385e-05 1.0515751455386635e-05 1.2390575648169033e-05\n",
            " 2.1591240511042997e-05 1.4370823009812739e-05 1.5412811990245245e-05\n",
            " 2.4052735170698725e-05 8.851105121721048e-06 5.8881123550236225e-06\n",
            " 1.5311019524233416e-05 1.4468380868493114e-05 1.0875686712097377e-05\n",
            " 1.2902141861559357e-05 1.5973402696545236e-05 8.848093784763478e-06\n",
            " 1.5170562619459815e-05 3.76019715986331e-06 7.472391189367045e-06\n",
            " 8.626075214124285e-06 1.3400206626101863e-05 1.2662141671171412e-05\n",
            " 1.2070418961229734e-05 2.2129597709863447e-05 2.1902802473050542e-05\n",
            " 1.6470678019686602e-05 7.300206561922096e-06 1.2822694770875387e-05\n",
            " 7.291654583241325e-06 1.3128082173352595e-05 6.95442759024445e-06\n",
            " 1.2384131878206972e-05 1.694474667601753e-05 1.2478461940190755e-05\n",
            " 1.857467577792704e-05 1.7861662854556926e-05 2.4319211661349982e-05\n",
            " 1.695270839263685e-05 1.4833492969046347e-05 2.8158816348877735e-05\n",
            " 1.5228574739012402e-05 1.9880330000887625e-05 3.1725667213322595e-05\n",
            " 2.9110100513207726e-05 2.2124298993730918e-05 2.7869453333551064e-05\n",
            " 2.04395782930078e-05 1.7791362552088685e-05 1.930317739606835e-05\n",
            " 2.65029175352538e-05 2.7790556487161666e-05 3.1448165827896446e-05\n",
            " 3.080755777773447e-05 3.847645712085068e-05 5.37631603947375e-05\n",
            " 7.0791611506138e-05 3.8109050365164876e-05 3.638506677816622e-05\n",
            " 2.4809576643747278e-05 1.5340105164796114e-05 2.7801399482996203e-05\n",
            " 1.8161206753575243e-05 2.2420052118832245e-05 1.3916024727222975e-05\n",
            " 1.90592763829045e-05 2.6242418243782595e-05 2.0333249267423525e-05\n",
            " 2.4462715373374522e-05 2.8850670787505805e-05 2.260930705233477e-05\n",
            " 9.425708412891254e-06 2.3980404876056127e-05 1.3356702766031958e-05\n",
            " 1.8366676158620976e-05 2.1590341930277646e-05 2.545102142903488e-05\n",
            " 4.925623943563551e-05 3.1217976356856525e-05 3.428561467444524e-05\n",
            " 2.959090306831058e-05 3.257028220104985e-05 3.633895903476514e-05\n",
            " 3.5011395084438846e-05 2.3327644157689065e-05 3.3108339266618714e-05\n",
            " 4.678406548919156e-05 1.7572514479979873e-05 3.0116714697214775e-05\n",
            " 3.624298915383406e-05 5.905524449190125e-05 4.1572620830265805e-05\n",
            " 3.841911893687211e-05 1.989403426705394e-05 3.068684964091517e-05\n",
            " 3.852401641779579e-05 4.542813985608518e-05 4.566741699818522e-05\n",
            " 1.576157592353411e-05 2.677225165825803e-05 1.387384418194415e-05\n",
            " 1.3315722753759474e-05 9.780840628081933e-06 2.6148753022425808e-05\n",
            " 1.856350718298927e-05 2.309229785169009e-05 1.89308757398976e-05\n",
            " 1.9348331989021972e-05 1.384673760185251e-05 1.8162158085033298e-05\n",
            " 1.9553555830498226e-05 1.6597963622189127e-05 1.6329298887285404e-05\n",
            " 2.0416708139237016e-05 2.142255470971577e-05 9.080081326828804e-06\n",
            " 2.3940692699397914e-05 1.9269871700089425e-05 1.7724310964695178e-05\n",
            " 2.6393703592475504e-05 1.7823824236984365e-05 9.034929462359287e-07\n",
            " 1.974244150915183e-05 2.029633651545737e-05 2.3705963030806743e-05\n",
            " 2.1845085939276032e-05 9.13096300791949e-06 9.413867701368872e-06\n",
            " 1.9585766494856216e-05 2.685080653463956e-05 3.555525472620502e-05\n",
            " 2.0643008610932156e-05 2.0245890482328832e-05 3.353889405843802e-05\n",
            " 3.581896089599468e-05 2.666564796527382e-05 2.475126711942721e-05\n",
            " 1.7480911992606707e-05 2.753000990196597e-05 4.326743146521039e-05\n",
            " 4.9788362957770005e-05 6.406897591659799e-05 3.6375353374751285e-05\n",
            " 1.3568338545155711e-05 2.311955176992342e-05 3.6618839658331126e-05\n",
            " 4.030352647532709e-05 5.7251210819231346e-05 3.97903349949047e-05\n",
            " 3.1021096219774336e-05 3.454625039012171e-05 2.4495613615727052e-05\n",
            " 2.227404183940962e-05 2.2788759451941587e-05 1.4491532965621445e-05\n",
            " 3.306481448817067e-05 2.0364181182230823e-05 3.299103627796285e-05\n",
            " 2.2570291548618115e-05 2.2323943994706497e-05 1.9844210328301415e-05\n",
            " 1.8847722458303906e-05 2.3655182303627953e-05 1.9659169993246906e-05\n",
            " 1.5248675481416285e-05 1.1214502592338249e-05 1.421333581674844e-05\n",
            " 3.956075306632556e-05 3.0116447305772454e-05 3.6361780075822026e-05\n",
            " 2.5538451154716313e-05 3.0886025342624635e-05 2.4707023840164766e-05\n",
            " 1.9926123059121892e-05 3.798016405198723e-05 1.3735581887885928e-05\n",
            " 2.4513714379281737e-05 4.493754022405483e-05 4.332319076638669e-05\n",
            " 4.417856325744651e-05 5.6407705415040255e-05 6.369409675244242e-05\n",
            " 6.347807357087731e-05 4.316173726692796e-05 3.4961321944138035e-05\n",
            " 3.9074122469173744e-05 4.810592872672714e-05 3.452804230619222e-05\n",
            " 5.734477235819213e-05 5.26072908542119e-05 3.621095675043762e-05\n",
            " 4.1838760807877406e-05 4.431874185684137e-05 4.41980519099161e-05\n",
            " 7.028117397567257e-05 5.7110410125460476e-05 6.523474439745769e-05\n",
            " 7.296552939806134e-05 6.929528171895072e-05 8.269587124232203e-05\n",
            " 8.620751032140106e-05 7.332737004617229e-05 5.8177578466711566e-05\n",
            " 5.985654570395127e-05 5.137495099916123e-05 6.814982771174982e-05\n",
            " 6.58257122267969e-05 6.465900514740497e-05 5.6929180573206395e-05\n",
            " 6.014274913468398e-05 6.307729927357286e-05 5.867844447493553e-05\n",
            " 5.670384052791633e-05 5.9712947404477745e-05 4.550577432382852e-05\n",
            " 4.8575839173281565e-05 5.356969268177636e-05 5.197253267397173e-05\n",
            " 4.526513293967582e-05 5.350663559511304e-05 7.073422602843493e-05\n",
            " 6.082769687054679e-05 7.683066360186785e-05 6.084932101657614e-05\n",
            " 5.7099328842014074e-05 4.9369173211744055e-05 3.355811713845469e-05\n",
            " 4.05872669944074e-05 4.18448107666336e-05 3.1585830583935603e-05\n",
            " 3.71047317457851e-05 4.571688987198286e-05 3.457303682807833e-05\n",
            " 3.550318433553912e-05 3.895346890203655e-05 3.0163213523337618e-05\n",
            " 3.965048017562367e-05 4.126049316255376e-05 3.592186840251088e-05\n",
            " 3.558622483978979e-05 2.7900623535970226e-05 4.2214822315145284e-05\n",
            " 3.1537267204839736e-05 4.178303788648918e-05 2.945406231447123e-05\n",
            " 3.0469827834167518e-05 2.683973616512958e-05 2.3768045139149763e-05\n",
            " 2.7396039513405412e-05 2.4315420887432992e-05 2.2238551537157036e-05\n",
            " 2.52192621701397e-05 2.651873728609644e-05 1.769583104760386e-05\n",
            " 2.8032850423187483e-06 9.94925358099863e-06 9.173923899652436e-06\n",
            " 3.0101278753136285e-05 3.187571564922109e-05 3.6624944186769426e-05\n",
            " 3.120166729786433e-05 2.9013093808316626e-05 3.66492968169041e-05\n",
            " 3.209041096852161e-05 2.4896111426642165e-05 2.6594852897687815e-05\n",
            " 2.0932251572958194e-05 2.5081904823309742e-05 2.01109578483738e-05\n",
            " 1.2986103683942929e-05 1.1989758604613598e-05 1.3683605175174307e-05\n",
            " 2.8337126423139125e-05 2.4489381758030504e-05 1.2444722415239085e-05\n",
            " 7.79792753746733e-06 2.5250110411434434e-05 1.0463084436196368e-05\n",
            " 2.45551455009263e-05 2.9335047656786628e-05 2.440742355247494e-05\n",
            " 3.3222633646801114e-05 6.0155580285936594e-05 4.173190609435551e-05\n",
            " 3.3493175578769296e-05 4.8385350964963436e-05 4.114364128326997e-05\n",
            " 2.3615966711076908e-05 2.541602407291066e-05 3.057088179048151e-05\n",
            " 3.311082400614396e-05 2.533162660256494e-05 5.191201489651576e-05\n",
            " 3.107781958533451e-05 3.700517481775023e-05 3.555938747012988e-05\n",
            " 1.4998435062807403e-06 2.577468694653362e-05 3.128387834294699e-05\n",
            " 2.9895045372541063e-05 3.6466342862695456e-05 2.8433187253540382e-05\n",
            " 3.1378578569274396e-05 3.981719783041626e-05 2.9107812224538065e-05\n",
            " 3.798116449615918e-05 2.2450329197454266e-05 3.0268840419012122e-05\n",
            " 1.2167788554506842e-05 3.201898653060198e-05 4.384553540148772e-05\n",
            " 2.1529700461542234e-05 2.4159509848686866e-05 2.028287053690292e-05\n",
            " 2.6412599254399538e-05 3.101012407569215e-05 3.4762277209665626e-05\n",
            " 1.717992199701257e-05 4.038793849758804e-05 3.208515772712417e-05\n",
            " 2.101608697557822e-05 1.6942594811553136e-05 1.575281930854544e-05\n",
            " 2.8399445000104606e-05 1.8302762327948585e-05 3.336561348987743e-05\n",
            " 2.589662472018972e-05 3.597244722186588e-05 1.7726531950756907e-05\n",
            " 3.949534584535286e-05 3.990008917753585e-05 3.55853553628549e-05\n",
            " 2.344254608033225e-05 2.1350795577745885e-05 1.2964338566234801e-05\n",
            " 3.057778303627856e-05 3.261376332375221e-05 2.1458779883687384e-05\n",
            " 1.6899279216886498e-05 3.523707346175797e-05 4.12209119531326e-05\n",
            " 3.534408097038977e-05 3.486572313704528e-05 3.828855187748559e-05\n",
            " 3.631172512541525e-05 1.8349475794821046e-05 2.550803947087843e-05\n",
            " 3.504913911456242e-05 1.8631251805345528e-05 1.757704740157351e-05\n",
            " 2.07106950256275e-05 2.4673652660567313e-05 2.918060818046797e-05\n",
            " 1.8223479855805635e-05 2.323089756828267e-05 3.489659138722345e-05\n",
            " 1.60589515871834e-05 2.0856801711488515e-05 2.660885547811631e-05\n",
            " 2.992227928189095e-05 2.1047999325674027e-05 1.9402819816605188e-05\n",
            " 2.0244144252501428e-05 2.5960711354855448e-05 3.1066552764968947e-05\n",
            " 4.014843580080196e-05 3.526790897012688e-05 2.5326853574370034e-05\n",
            " 3.757914964808151e-05 2.7325913833919913e-05 2.7649288313114084e-05\n",
            " 2.742590004345402e-05 2.2133284801384434e-05 3.2134761568158865e-05\n",
            " 5.261399564915337e-05 3.138221291010268e-05 3.0050714485696517e-05\n",
            " 3.338350506965071e-05 5.224692358751781e-05 1.0109542017744388e-05\n",
            " 2.618225153128151e-05 2.2401112801162526e-05 2.6837025870918296e-05\n",
            " 1.2564822100102901e-05 1.6527432308066636e-05 2.8648810257436708e-05\n",
            " 4.289657954359427e-05 3.6264209484215826e-05 4.2981871956726536e-05\n",
            " 4.381353937787935e-05 3.96489558625035e-05 4.6639081119792536e-05\n",
            " 4.828006058232859e-05 2.8713751817122102e-05 2.2592979803448543e-05\n",
            " 1.707548653939739e-05 1.879690717032645e-05 2.212422805314418e-05\n",
            " 3.980529436375946e-05 3.578631003620103e-05 5.170466465642676e-05\n",
            " 5.5708325817249715e-05 6.282788672251627e-05 5.180862717679702e-05\n",
            " 4.3825581087730825e-05 3.3708132832543924e-05 4.614762292476371e-05\n",
            " 4.86551653011702e-05 5.22047994309105e-05 4.4137443182989955e-05\n",
            " 5.199045699555427e-05 6.137759919511154e-05 5.856441202922724e-05\n",
            " 7.047291001072153e-05 7.389790698653087e-05 6.154600851004943e-05\n",
            " 6.997882155701518e-05 6.489927181974053e-05 7.072337757563218e-05\n",
            " 6.716725329170004e-05 4.661126877181232e-05 4.915380850434303e-05\n",
            " 3.7032274121884257e-05 2.7574176783673465e-05 3.7991339922882617e-05\n",
            " 3.774144715862349e-05 3.212562660337426e-05 2.7425743610365316e-05\n",
            " 2.5721434212755412e-05 2.2115142201073468e-05 2.838624277501367e-05\n",
            " 3.106054282397963e-05 4.0332964999834076e-05 5.123960363562219e-05\n",
            " 4.970450027030893e-05 3.9754075260134414e-05 3.802377250394784e-05\n",
            " 3.081114846281707e-05 3.990771801909432e-05 2.9169017579988576e-05\n",
            " 3.066563658649102e-05 3.616884714574553e-05 3.093624400207773e-05\n",
            " 3.0680290365125984e-05 4.9781509005697444e-05 3.352602288941853e-05\n",
            " 5.033042180002667e-05 3.755859870580025e-05 4.334808181738481e-05\n",
            " 3.869517968269065e-05 3.182048021699302e-05]\n",
            "['2020-10-10T12:04:32.065000Z']\n"
          ],
          "name": "stdout"
        },
        {
          "output_type": "execute_result",
          "data": {
            "text/plain": [
              "<matplotlib.axes._subplots.AxesSubplot at 0x7f5120353fd0>"
            ]
          },
          "metadata": {
            "tags": []
          },
          "execution_count": 33
        },
        {
          "output_type": "display_data",
          "data": {
            "image/png": "[encoded data removed]",
            "text/plain": [
              "<Figure size 432x288 with 1 Axes>"
            ]
          },
          "metadata": {
            "tags": [],
            "needs_background": "light"
          }
        }
      ]
    }
  ]
}